Image animation consists of generating a video sequence so that an object in a source image is animated according to the motion of a driving video. 
Our framework addresses this problem without using any annotation or prior information about the specific object to animate. 
Once trained on a set of videos depicting objects of the same category (e.g. faces, human bodies)

